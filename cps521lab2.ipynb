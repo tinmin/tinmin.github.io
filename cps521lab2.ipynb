{
  "nbformat": 4,
  "nbformat_minor": 0,
  "metadata": {
    "colab": {
      "provenance": []
    },
    "kernelspec": {
      "name": "python3",
      "display_name": "Python 3"
    },
    "language_info": {
      "name": "python"
    }
  },
  "cells": [
    {
      "cell_type": "code",
      "execution_count": null,
      "metadata": {
        "id": "g-EMBUI51iC-"
      },
      "outputs": [],
      "source": [
        "import pandas\n",
        "import seaborn\n",
        "import matplotlib.pyplot as plt\n",
        "%matplotlib inline\n",
        "from sklearn.model_selection import train_test_split \n",
        "from sklearn.linear_model import LinearRegression\n",
        "from sklearn import metrics\n",
        "from statsmodels.api import OLS\n",
        "import os.path\n",
        "from google.colab import files"
      ]
    },
    {
      "cell_type": "code",
      "source": [
        "if os.path.isfile(\"Computers.csv\"):\n",
        "  file_name = \"Computers.csv\"\n",
        "elif os.path.isfile(\"archive.zip\"):\n",
        "  file_name = \"archive.zip\"\n",
        "  computers_data = pd.read_csv(file_name)\n",
        "else:\n",
        "  uploaded = files.upload()\n",
        "  computers_data = pd.read_csv(next(iter(uploaded)))\n",
        "computers_data.info()"
      ],
      "metadata": {
        "id": "LTR-gkjF4HW6"
      },
      "execution_count": null,
      "outputs": []
    },
    {
      "cell_type": "code",
      "source": [
        "computers_data.describe()"
      ],
      "metadata": {
        "id": "zY4Zm7Ap42cr"
      },
      "execution_count": null,
      "outputs": []
    },
    {
      "cell_type": "code",
      "source": [
        "computers_data.info()"
      ],
      "metadata": {
        "id": "i_gIs-TNBNdT"
      },
      "execution_count": null,
      "outputs": []
    },
    {
      "cell_type": "code",
      "source": [
        "computers_data.head(10)"
      ],
      "metadata": {
        "id": "jwPKdcPwzHUF"
      },
      "execution_count": null,
      "outputs": []
    },
    {
      "cell_type": "code",
      "source": [
        "computers_data.shape"
      ],
      "metadata": {
        "id": "IQGbfJzoLVzR"
      },
      "execution_count": null,
      "outputs": []
    },
    {
      "cell_type": "code",
      "source": [
        "computers_data.isnull.sum().sum()"
      ],
      "metadata": {
        "id": "svdnbs-VLc2M"
      },
      "execution_count": null,
      "outputs": []
    },
    {
      "cell_type": "code",
      "source": [
        "computers_data[price][0:10]"
      ],
      "metadata": {
        "id": "Nyz2kRjaMEJY"
      },
      "execution_count": null,
      "outputs": []
    },
    {
      "cell_type": "code",
      "source": [
        "if 'Unnamed: 0' in computers_data.columns:\n",
        "  computers_data = computers_data.drop('Unnamed: 0', axis=1)\n",
        "computers_data.head(10)"
      ],
      "metadata": {
        "id": "qvDtEqWwz5aJ"
      },
      "execution_count": null,
      "outputs": []
    },
    {
      "cell_type": "code",
      "source": [
        "sns.boxplot(y=computers_data['price'])"
      ],
      "metadata": {
        "id": "q7c_kO943jwp"
      },
      "execution_count": null,
      "outputs": []
    },
    {
      "cell_type": "code",
      "source": [
        "fig, ax = plt.subplots(figsize=(8,4))\n",
        "ax.boxplot(computers_data['price'])\n",
        "ax.set_xlabel('Price Outliers')\n",
        "ax.set_ylabel('Computer Price')\n",
        "plt.show()"
      ],
      "metadata": {
        "id": "g0FmfjJjCEK0"
      },
      "execution_count": null,
      "outputs": []
    },
    {
      "cell_type": "code",
      "source": [
        "fig, ax = plt.subplots(figsize=(8,4))\n",
        "## ax.scatter(computers_data['speed'], computers_data['price'])\n",
        "ax.scatter(computers_data['ram'], computers_data['price'])\n",
        "ax.set_xlabel('Computer ram')\n",
        "ax.set_ylabel('Computer Price')\n",
        "plt.show()"
      ],
      "metadata": {
        "id": "fwBRdpEdAvt8"
      },
      "execution_count": null,
      "outputs": []
    },
    {
      "cell_type": "code",
      "source": [
        "fig, ax = plt.subplots(figsize=(8,4))\n",
        "ax.scatter(computers_data['speed'], computers_data['price'])\n",
        "ax.set_xlabel('Computer Speed')\n",
        "ax.set_ylabel('Computer Price')\n",
        "plt.show()"
      ],
      "metadata": {
        "id": "49Tv5CFeAXWp"
      },
      "execution_count": null,
      "outputs": []
    },
    {
      "cell_type": "code",
      "source": [
        "fig, ax = plt.subplots(figsize=(10,5))\n",
        "ax.hist(computers_data['price'],bins=25)\n",
        "ax.set_xlabel('Computer Price')\n",
        "ax.set_ylabel('Counts')\n",
        "plt.show()"
      ],
      "metadata": {
        "id": "shRkVwP9fyKM"
      },
      "execution_count": null,
      "outputs": []
    },
    {
      "cell_type": "code",
      "source": [
        "sns.histplot(computers_data.price);"
      ],
      "metadata": {
        "id": "mX_SoccyLCWg"
      },
      "execution_count": null,
      "outputs": []
    },
    {
      "cell_type": "code",
      "source": [
        "comp_price = computers_data['price'].values.reshape(-1,1)\n",
        "comp_price[:10]\n",
        "comp_speed = computers_data['speed'].values.reshape(-1,1)\n",
        "comp_speed[:10]\n",
        "comp_ram = computers_data['ram'].values.reshape(-1,1)\n",
        "comp_ram\n",
        "indep_vars = computers_data[('ram','speed')]\n",
        "indep_vars"
      ],
      "metadata": {
        "id": "vSSxyPEck7dx"
      },
      "execution_count": null,
      "outputs": []
    },
    {
      "cell_type": "code",
      "source": [
        "train_set,test_set, dep_train, dep_test = train_test_split(indep_vars, comp_price, test_size=0.2, random_state=0)"
      ],
      "metadata": {
        "id": "Scxarybmj8NO"
      },
      "execution_count": null,
      "outputs": []
    },
    {
      "cell_type": "code",
      "source": [
        "regressor = LinearRegression()  \n",
        "regressor.fit(train_set,dep_train)"
      ],
      "metadata": {
        "id": "ayLWnxjulqzX"
      },
      "execution_count": null,
      "outputs": []
    },
    {
      "cell_type": "code",
      "source": [
        "print(regressor.intercept_)\n",
        "print(regressor.coef_)\n"
      ],
      "metadata": {
        "id": "UprLNtojnV_K"
      },
      "execution_count": null,
      "outputs": []
    },
    {
      "cell_type": "code",
      "source": [
        "predicted = regressor.predict(test_set)"
      ],
      "metadata": {
        "id": "TG9kqKXunn7G"
      },
      "execution_count": null,
      "outputs": []
    },
    {
      "cell_type": "code",
      "source": [
        "Predicted_vs_Actuals = pd.DataFrame({'Actual': dep_test.flatten(), 'Predicted': predicted.flatten()})\n",
        "Predicted_vs_Actuals"
      ],
      "metadata": {
        "id": "9gslg6_1oGut"
      },
      "execution_count": null,
      "outputs": []
    },
    {
      "cell_type": "code",
      "source": [
        "results = OLS(dep_train,train_set).fit()\n",
        "results.summary()"
      ],
      "metadata": {
        "id": "rwl7okSOnV8c"
      },
      "execution_count": null,
      "outputs": []
    },
    {
      "cell_type": "code",
      "source": [
        "sns.histplot(results.resid);"
      ],
      "metadata": {
        "id": "PlJFa8TrK2W5"
      },
      "execution_count": null,
      "outputs": []
    },
    {
      "cell_type": "code",
      "source": [
        "train_ram,test_ram, train_price, price_test = train_test_split(comp_ram, comp_price, test_size=0.2, random_state=0)\n",
        "regressor_ram = LinearRegression()  \n",
        "regressor_ram.fit(train_ram,train_price)\n"
      ],
      "metadata": {
        "id": "Tx0x9obmLVt4"
      },
      "execution_count": null,
      "outputs": []
    },
    {
      "cell_type": "code",
      "source": [
        "print(regressor_ram.intercept_)\n",
        "print(regressor_ram.coef_)"
      ],
      "metadata": {
        "id": "m3VkSvCAG2D_"
      },
      "execution_count": null,
      "outputs": []
    },
    {
      "cell_type": "code",
      "source": [
        "predicted_price = regressor_ram.predict(test_ram)"
      ],
      "metadata": {
        "id": "PB35Uu3mHTyY"
      },
      "execution_count": null,
      "outputs": []
    },
    {
      "cell_type": "code",
      "source": [
        "Predicted_price_vs_Actuals = pd.DataFrame({'Actual': price_test.flatten(), 'Predicted': predicted_price.flatten()})\n",
        "Predicted_price_vs_Actuals"
      ],
      "metadata": {
        "id": "Qc5vGel9IkLA"
      },
      "execution_count": null,
      "outputs": []
    },
    {
      "cell_type": "code",
      "source": [
        "plt.scatter(train_ram, train_price,color='g') \n",
        "plt.plot(test_ram, predicted_price,color='b') \n",
        "plt.show()"
      ],
      "metadata": {
        "id": "enIQrlq-FHDD"
      },
      "execution_count": null,
      "outputs": []
    }
  ]
}
